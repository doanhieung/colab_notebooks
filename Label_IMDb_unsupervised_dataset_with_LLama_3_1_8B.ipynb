{
  "cells": [
    {
      "cell_type": "markdown",
      "metadata": {
        "id": "view-in-github",
        "colab_type": "text"
      },
      "source": [
        "<a href=\"https://colab.research.google.com/github/doanhieung/colab_notebooks/blob/main/Label_IMDb_unsupervised_dataset_with_LLama_3_1_8B.ipynb\" target=\"_parent\"><img src=\"https://colab.research.google.com/assets/colab-badge.svg\" alt=\"Open In Colab\"/></a>"
      ]
    },
    {
      "cell_type": "code",
      "execution_count": null,
      "metadata": {
        "id": "GRaaPEDcaLTw"
      },
      "outputs": [],
      "source": [
        "# Import dependencies\n",
        "import os\n",
        "import random\n",
        "import pandas as pd\n",
        "from tqdm.notebook import tqdm\n",
        "from dotenv import load_dotenv\n",
        "from together import Together\n",
        "from datasets import load_dataset\n",
        "\n",
        "# Define configuration\n",
        "DATASET = \"stanfordnlp/imdb\"\n",
        "SEED = 42\n",
        "NUM_EXAMPLES = 5000\n",
        "MODEL = \"meta-llama/Meta-Llama-3.1-8B-Instruct-Turbo\"\n",
        "TEMPARATURE = 0\n",
        "MAX_TOKENS = 256\n",
        "\n",
        "# Load Together.ai client\n",
        "_ = load_dotenv()\n",
        "client = Together()"
      ]
    },
    {
      "cell_type": "code",
      "execution_count": null,
      "metadata": {
        "id": "2y5XdFYLaLTx"
      },
      "outputs": [],
      "source": [
        "# Load IMDb dataset\n",
        "dataset = load_dataset(DATASET, split=\"unsupervised\")"
      ]
    },
    {
      "cell_type": "code",
      "execution_count": null,
      "metadata": {
        "id": "J-76pX33aLTy"
      },
      "outputs": [],
      "source": [
        "# Randomly select 5000 unsupervised samples to label using LLM\n",
        "random.seed(SEED)\n",
        "random_indices = random.sample(range(len(dataset)), NUM_EXAMPLES)\n",
        "selected_examples = [dataset[i] for i in random_indices]"
      ]
    },
    {
      "cell_type": "code",
      "execution_count": null,
      "metadata": {
        "colab": {
          "referenced_widgets": [
            "64256fb3ab564ecd8ddd61f63affa51f"
          ]
        },
        "id": "3k87w3ZgaLTy",
        "outputId": "0cc8aa8c-942d-4473-9014-b929cb6c27fc"
      },
      "outputs": [
        {
          "data": {
            "application/vnd.jupyter.widget-view+json": {
              "model_id": "64256fb3ab564ecd8ddd61f63affa51f",
              "version_major": 2,
              "version_minor": 0
            },
            "text/plain": [
              "  0%|          | 0/5000 [00:00<?, ?it/s]"
            ]
          },
          "metadata": {},
          "output_type": "display_data"
        }
      ],
      "source": [
        "# Call Together.ai API to get the labels\n",
        "prompt = \"\"\"Analyze the sentiment of the following movie review and classify them as POSITIVE or NEGATIVE.\n",
        "\n",
        "Only output the sentiment of the review. Do not include any other information.\n",
        "\n",
        "Movie Review:\n",
        "```\n",
        "{input}\n",
        "```\n",
        "Sentiment: \"\"\"\n",
        "\n",
        "for index, example in enumerate(tqdm(selected_examples)):\n",
        "    save_path = f\"./results/{index}.txt\"\n",
        "    if os.path.exists(save_path):\n",
        "        continue\n",
        "    input = example[\"text\"]\n",
        "    chat_completion = client.chat.completions.create(\n",
        "        messages=[{\"role\": \"user\", \"content\": prompt.format(input=input)}],\n",
        "        model=MODEL,\n",
        "        temperature=TEMPARATURE,\n",
        "        max_tokens=MAX_TOKENS,\n",
        "    )\n",
        "    response = chat_completion.choices[0].message.content\n",
        "    # Save model response\n",
        "    with open(save_path, \"w\") as f:\n",
        "        f.write(response)"
      ]
    },
    {
      "cell_type": "code",
      "execution_count": null,
      "metadata": {
        "id": "ffva_AzOaLTy"
      },
      "outputs": [],
      "source": [
        "# Save result to a CSV file\n",
        "res = []\n",
        "for index, example in enumerate(selected_examples):\n",
        "    save_path = f\"./results/{index}.txt\"\n",
        "    with open(save_path, \"r\") as f:\n",
        "        label = f.read()\n",
        "    if label in [\"POSITIVE\", \"NEGATIVE\"]:\n",
        "        res.append({\"text\": example[\"text\"], \"label\": 0 if label == \"NEGATIVE\" else 1})\n",
        "pd.DataFrame(res).to_csv(\"data/extra_data.csv\", index=False)"
      ]
    }
  ],
  "metadata": {
    "kernelspec": {
      "display_name": ".venv",
      "language": "python",
      "name": "python3"
    },
    "language_info": {
      "codemirror_mode": {
        "name": "ipython",
        "version": 3
      },
      "file_extension": ".py",
      "mimetype": "text/x-python",
      "name": "python",
      "nbconvert_exporter": "python",
      "pygments_lexer": "ipython3",
      "version": "3.10.12"
    },
    "colab": {
      "provenance": [],
      "include_colab_link": true
    }
  },
  "nbformat": 4,
  "nbformat_minor": 0
}